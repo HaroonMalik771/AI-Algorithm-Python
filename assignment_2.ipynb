{
 "cells": [
  {
   "cell_type": "code",
   "execution_count": 81,
   "metadata": {},
   "outputs": [
    {
     "name": "stdout",
     "output_type": "stream",
     "text": [
      "Solution found in generation 5\n",
      "Solution: [1, 1, 1, 1, 1, 1, 1, 1]\n"
     ]
    }
   ],
   "source": [
    "#sp21-bcs-017\n",
    "import random\n",
    "\n",
    "# Parameters\n",
    "L = 8  # Length of the binary string\n",
    "population_size = 50\n",
    "mutation_rate = 0.01\n",
    "generations = 1000\n",
    "\n",
    "# Function to initialize a random binary string\n",
    "def create_individual(length):\n",
    "    return [random.randint(0, 1) for _ in range(length)]\n",
    "\n",
    "# Function to calculate the fitness of an individual\n",
    "def calculate_fitness(individual):\n",
    "    return sum(individual)\n",
    "\n",
    "# Function to perform crossover between two individuals\n",
    "def crossover(parent1, parent2):\n",
    "    midpoint = random.randint(1, len(parent1) - 1)\n",
    "    child = parent1[:midpoint] + parent2[midpoint:]\n",
    "    return child\n",
    "# Function to perform mutation on an individual\n",
    "def mutate(individual):\n",
    "    for i in range(len(individual)):\n",
    "        if random.random() < mutation_rate:\n",
    "            individual[i] = 1 - individual[i]\n",
    "\n",
    "# Main genetic algorithm loop\n",
    "population = [create_individual(L) for _ in range(population_size)]\n",
    "\n",
    "for generation in range(generations):\n",
    "    # Calculate fitness for each individual\n",
    "    fitness_scores = [calculate_fitness(individual) for individual in population]\n",
    "\n",
    "    # Check for a solution\n",
    "    if L in fitness_scores:\n",
    "        index = fitness_scores.index(L)\n",
    "        print(\"Solution found in generation\", generation)\n",
    "        print(\"Solution:\", population[index])\n",
    "        break\n",
    "\n",
    "    # Select individuals for the mating pool based on fitness\n",
    "    mating_pool = random.choices(population, weights=fitness_scores, k=population_size)\n",
    "\n",
    "    # Create a new population through crossover and mutation\n",
    "    new_population = []\n",
    "    for _ in range(population_size):\n",
    "        parent1 = random.choice(mating_pool)\n",
    "        parent2 = random.choice(mating_pool)\n",
    "        child = crossover(parent1, parent2)\n",
    "        mutate(child)\n",
    "        new_population.append(child)\n",
    "\n",
    "    population = new_population\n",
    "# If no solution is found after all generations\n",
    "else:\n",
    "    print(\"No solution found after\", generations, \"generations.\")\n",
    "\n"
   ]
  },
  {
   "cell_type": "code",
   "execution_count": null,
   "metadata": {},
   "outputs": [],
   "source": [
    "// Define Simpa and its characteristics\n",
    "MERGE (s:Cat {name: 'Simpa', color: 'white'})\n",
    "MERGE (s)-[:LIKES]->(:Activity {name: 'sitting on carpet'})\n",
    "MERGE (s)-[:LIKES]->(:Food {name: 'Milk'})\n",
    "MERGE (s)-[:LIKES]->(:Food {name: 'Salmon fish'})\n",
    "\n",
    "// Simpa caught a bird named \"Killdeer\" who has fur\n",
    "MERGE (k:Bird {name: 'Killdeer'})\n",
    "MERGE (s)-[:CAUGHT]->(k)\n",
    "\n",
    "// Create a single Mammal node or find an existing one\n",
    "MERGE (m:Mammal {type: 'Mammal'})\n",
    "MERGE (whale:Animal {name: 'Whale', size: 'Big'})\n",
    "\n",
    "// Establish relationships indicating Simpa, Killdeer, and Whale are mammals\n",
    "MERGE (s)-[:IS_A]->(m)\n",
    "MERGE (k)-[:IS_A]->(m)\n",
    "MERGE (whale)-[:IS_A]->(m)\n",
    "\n",
    "// Add fur characteristic for Killdeer\n",
    "MERGE (k)-[:HAS_FUR]->(:Characteristic {type: 'Fur'})\n",
    "\n",
    "// Add characteristics for Killdeer\n",
    "MERGE (k)-[:HAS_BEAK]->(:Characteristic {type: 'Long and Thin Beak'})\n",
    "\n",
    "// Simpa is owned by a girl named Alia\n",
    "MERGE (girl:Girl {name: 'Alia'})\n",
    "MERGE (s)-[:OWNED_BY]->(girl)\n",
    "\n",
    "// Killdeer hiding between a curtain and a window\n",
    "MERGE (curtain:Activity {name: 'between curtain and window'})\n",
    "MERGE (k)-[:HIDES]->(curtain)\n",
    "\n",
    "// Simpa has white color\n",
    "MERGE (s)-[:HAS]->(:Characteristic {type: 'White'})\n",
    "\n",
    "// Alia is a hobbit who finds a magic ring in a cave\n",
    "MERGE (girl)-[:IS_A]->(:Characteristic {type: 'Hobbit'})\n",
    "MERGE (girl)-[:FINDS]->(:MagicRing {name: 'Magic Ring'})\n",
    "MERGE (girl)-[:EXPLORES]->(:Activity {name: 'Cave'})\n",
    "\n",
    "// Alia has lived in a village since her birth\n",
    "MERGE (village:Village {name: 'Acciaroli', age: 100, location: 'Oceanic Shore'})\n",
    "MERGE (girl)-[:LIVED_IN]->(village)\n",
    "\n",
    "// Alia once saw a big whale\n",
    "MERGE (girl)-[:SAW]->(whale)\n",
    "\n",
    "// Additional information about mammals, birds, and the whale\n",
    "MERGE (animalKingdom:Kingdom {name: 'Animal_kingdom'})\n",
    "MERGE (m)-[:BELONGS_TO]->(animalKingdom)\n",
    "MERGE (whale)-[:LIVES_IN]->(:Environment {name: 'Water'})"
   ]
  },
  {
   "cell_type": "code",
   "execution_count": null,
   "metadata": {},
   "outputs": [],
   "source": [
    "// Alia likes to catch and eat fish\n",
    "MERGE (girl)-[:LIKES]->(:Activity {name: 'catching and eating fish'})\n",
    "\n",
    "// Simpa was once bitten by a Crab\n",
    "MERGE (crab:Animal {name: 'Crab'})\n",
    "MERGE (s)-[:BITTEN_BY]->(crab)\n",
    "\n",
    "// Crab is an animal but not a mammal\n",
    "MERGE (crab)-[:IS_A]->(:Kingdom {name: 'Animal_kingdom'})\n",
    "MERGE (crab)-[:NOT_MAMMAL]->(:Characteristic {type: 'Crab'})\n"
   ]
  },
  {
   "cell_type": "code",
   "execution_count": null,
   "metadata": {},
   "outputs": [],
   "source": [
    "// Modify the age of the village \"Acciaroli\"\n",
    "MATCH (village:Village {name: 'Acciaroli', age: 100})\n",
    "SET village.age = 1000\n"
   ]
  },
  {
   "cell_type": "code",
   "execution_count": null,
   "metadata": {},
   "outputs": [],
   "source": [
    "// Delete the statement \"Simpa is white in color and is owned by a Girl, Alia.\"\n",
    "MATCH (s:Cat)-[r:HAS]->(:Characteristic {type: 'White'})\n",
    "DELETE r\n",
    "\n",
    "MATCH (s:Cat)-[r:OWNED_BY]->(girl:Girl {name: 'Alia'})\n",
    "DELETE r\n",
    "\n",
    "// Delete the statement \"Alia once saw a big Whale.\"\n",
    "MATCH (girl:Girl {name: 'Alia'})-[r:SAW]->(whale:Animal {name: 'Whale'})\n",
    "DELETE r\n"
   ]
  },
  {
   "cell_type": "code",
   "execution_count": null,
   "metadata": {},
   "outputs": [],
   "source": [
    "b)\t// Query: What's the age of Alia?\n",
    "c)\tMATCH (girl:Girl {name: 'Alia'})-[:LIVED_IN]->(village:Village)\n",
    "d)\tRETURN girl.name AS Name, girl.age AS Age\n"
   ]
  },
  {
   "cell_type": "code",
   "execution_count": null,
   "metadata": {},
   "outputs": [],
   "source": []
  }
 ],
 "metadata": {
  "kernelspec": {
   "display_name": "Python 3",
   "language": "python",
   "name": "python3"
  },
  "language_info": {
   "codemirror_mode": {
    "name": "ipython",
    "version": 3
   },
   "file_extension": ".py",
   "mimetype": "text/x-python",
   "name": "python",
   "nbconvert_exporter": "python",
   "pygments_lexer": "ipython3",
   "version": "3.11.4"
  }
 },
 "nbformat": 4,
 "nbformat_minor": 2
}
