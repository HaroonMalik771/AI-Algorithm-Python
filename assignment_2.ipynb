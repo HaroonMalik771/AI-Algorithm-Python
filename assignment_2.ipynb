{
 "cells": [
  {
   "cell_type": "code",
   "execution_count": 81,
   "metadata": {},
   "outputs": [
    {
     "name": "stdout",
     "output_type": "stream",
     "text": [
      "Solution found in generation 5\n",
      "Solution: [1, 1, 1, 1, 1, 1, 1, 1]\n"
     ]
    }
   ],
   "source": [
    "#sp21-bcs-017\n",
    "import random\n",
    "\n",
    "# Parameters\n",
    "L = 8  # Length of the binary string\n",
    "population_size = 50\n",
    "mutation_rate = 0.01\n",
    "generations = 1000\n",
    "\n",
    "# Function to initialize a random binary string\n",
    "def create_individual(length):\n",
    "    return [random.randint(0, 1) for _ in range(length)]\n",
    "\n",
    "# Function to calculate the fitness of an individual\n",
    "def calculate_fitness(individual):\n",
    "    return sum(individual)\n",
    "\n",
    "# Function to perform crossover between two individuals\n",
    "def crossover(parent1, parent2):\n",
    "    midpoint = random.randint(1, len(parent1) - 1)\n",
    "    child = parent1[:midpoint] + parent2[midpoint:]\n",
    "    return child\n",
    "# Function to perform mutation on an individual\n",
    "def mutate(individual):\n",
    "    for i in range(len(individual)):\n",
    "        if random.random() < mutation_rate:\n",
    "            individual[i] = 1 - individual[i]\n",
    "\n",
    "# Main genetic algorithm loop\n",
    "population = [create_individual(L) for _ in range(population_size)]\n",
    "\n",
    "for generation in range(generations):\n",
    "    # Calculate fitness for each individual\n",
    "    fitness_scores = [calculate_fitness(individual) for individual in population]\n",
    "\n",
    "    # Check for a solution\n",
    "    if L in fitness_scores:\n",
    "        index = fitness_scores.index(L)\n",
    "        print(\"Solution found in generation\", generation)\n",
    "        print(\"Solution:\", population[index])\n",
    "        break\n",
    "\n",
    "    # Select individuals for the mating pool based on fitness\n",
    "    mating_pool = random.choices(population, weights=fitness_scores, k=population_size)\n",
    "\n",
    "    # Create a new population through crossover and mutation\n",
    "    new_population = []\n",
    "    for _ in range(population_size):\n",
    "        parent1 = random.choice(mating_pool)\n",
    "        parent2 = random.choice(mating_pool)\n",
    "        child = crossover(parent1, parent2)\n",
    "        mutate(child)\n",
    "        new_population.append(child)\n",
    "\n",
    "    population = new_population\n",
    "# If no solution is found after all generations\n",
    "else:\n",
    "    print(\"No solution found after\", generations, \"generations.\")\n",
    "\n"
   ]
  },
  {
   "cell_type": "code",
   "execution_count": null,
   "metadata": {},
   "outputs": [],
   "source": []
  }
 ],
 "metadata": {
  "kernelspec": {
   "display_name": "Python 3",
   "language": "python",
   "name": "python3"
  },
  "language_info": {
   "codemirror_mode": {
    "name": "ipython",
    "version": 3
   },
   "file_extension": ".py",
   "mimetype": "text/x-python",
   "name": "python",
   "nbconvert_exporter": "python",
   "pygments_lexer": "ipython3",
   "version": "3.11.4"
  }
 },
 "nbformat": 4,
 "nbformat_minor": 2
}
