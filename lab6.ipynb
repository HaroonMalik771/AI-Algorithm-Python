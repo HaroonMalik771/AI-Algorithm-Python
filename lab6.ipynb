{
 "cells": [
  {
   "cell_type": "markdown",
   "metadata": {},
   "source": [
    "**A Algorithm*"
   ]
  },
  {
   "cell_type": "code",
   "execution_count": 32,
   "metadata": {},
   "outputs": [],
   "source": [
    "class Node:\n",
    "    def __init__(self, state, parent, actions, totalcost, heuristic):\n",
    "        self.state = state\n",
    "        self.parent = parent\n",
    "        self.actions = actions\n",
    "        self.totalcost = totalcost\n",
    "        self.heuristic = heuristic  # Corrected attribute name\n",
    "\n"
   ]
  },
  {
   "cell_type": "code",
   "execution_count": 33,
   "metadata": {},
   "outputs": [],
   "source": [
    "\n",
    "graph = {\n",
    "    \"A\": Node(\"A\", None, [(\"F\", 1)], (0, 0), 0),\n",
    "    \"B\": Node(\"B\", None, [(\"C\", 1), (\"G\", 1)], (0, 2), 0),\n",
    "    \"C\": Node(\"C\", None, [(\"B\", 1), (\"D\", 1)], (0, 3), 0),\n",
    "    \"D\": Node(\"D\", None, [(\"C\", 1), (\"E\", 1)], (0, 4), 0),\n",
    "    \"E\": Node(\"E\", None, [(\"D\", 1)], (0, 5), 0),\n",
    "    \"F\": Node(\"F\", None, [(\"A\", 1), (\"H\", 1)], (1, 0), 0),\n",
    "    \"G\": Node(\"G\", None, [(\"B\", 1), (\"J\", 1)], (1, 2), 0),\n",
    "    \"H\": Node(\"H\", None, [(\"F\", 1), (\"I\", 1), (\"M\", 1)], (2, 0), 0),\n",
    "    \"I\": Node(\"I\", None, [(\"N\", 1), (\"J\", 1)], (2, 1), 0),\n",
    "    \"J\": Node(\"J\", None, [(\"G\", 1), (\"I\", 1)], (2, 2), 0),\n",
    "    \"K\": Node(\"K\", None, [(\"L\", 1), (\"P\", 1)], (2, 4), 0),\n",
    "    \"L\": Node(\"L\", None, [(\"K\", 1), (\"Q\", 1)], (2, 5), 0),\n",
    "    \"M\": Node(\"M\", None, [(\"H\", 1), (\"N\", 1), (\"R\", 1)], (3, 0), 0),\n",
    "    \"N\": Node(\"N\", None, [(\"I\", 1), (\"M\", 1), (\"S\", 1)], (3, 1), 0),\n",
    "    \"O\": Node(\"O\", None, [(\"P\", 1), (\"U\", 1)], (3, 3), 0),\n",
    "    \"P\": Node(\"P\", None, [(\"Q\", 1), (\"O\", 1)], (3, 4), 0),\n",
    "    \"Q\": Node(\"Q\", None, [(\"L\", 1), (\"P\", 1), (\"V\", 1)], (3, 5), 0),\n",
    "    \"R\": Node(\"R\", None, [(\"M\", 1), (\"S\", 1)], (4, 0), 0),\n",
    "    \"S\": Node(\"S\", None, [(\"N\", 1), (\"R\", 1), (\"T\", 1)], (4, 1), 0),\n",
    "    \"T\": Node(\"T\", None, [(\"S\", 1), (\"U\", 1), (\"W\", 1)], (4, 2), 0),\n",
    "    \"U\": Node(\"U\", None, [(\"O\", 1), (\"T\", 1)], (4, 3), 0),\n",
    "    \"V\": Node(\"V\", None, [(\"Q\", 1), (\"Y\", 1)], (4, 5), 0),\n",
    "    \"W\": Node(\"W\", None, [(\"T\", 1)], (5, 2), 0),\n",
    "    \"X\": Node(\"X\", None, [(\"Y\", 1)], (5, 4), 0),\n",
    "    \"Y\": Node(\"Y\", None, [(\"V\", 1), (\"X\", 1)],(5,5),0),\n",
    "}\n",
    "\n"
   ]
  },
  {
   "cell_type": "code",
   "execution_count": 34,
   "metadata": {},
   "outputs": [],
   "source": [
    "import numpy as np\n",
    " \n",
    "def euclidean_distance(point1, point2):\n",
    "    return np.linalg.norm(point1 - point2)"
   ]
  },
  {
   "cell_type": "code",
   "execution_count": 35,
   "metadata": {},
   "outputs": [],
   "source": [
    "import math\n",
    "def find_min(frontier):\n",
    "    min_cost = math.inf\n",
    "    min_node = None\n",
    "    for node in frontier:\n",
    "        if node.totalcost < min_cost:\n",
    "            min_cost = node.totalcost\n",
    "            min_node = node\n",
    "    return min_node"
   ]
  },
  {
   "cell_type": "code",
   "execution_count": 36,
   "metadata": {},
   "outputs": [],
   "source": [
    "def actionSequence(graph, start, goal):\n",
    "    solution = [goal]\n",
    "    current = goal\n",
    "    while current != start:\n",
    "        currentParent = graph[current].parent\n",
    "        solution.append(currentParent)\n",
    "        current = currentParent\n",
    "    solution.reverse()\n",
    "    return solution"
   ]
  },
  {
   "cell_type": "code",
   "execution_count": 37,
   "metadata": {},
   "outputs": [],
   "source": [
    "import math\n",
    "\n",
    "def a_star(graph, initial_state, goal_state):\n",
    "    frontier = {}  # Use a dictionary for frontier\n",
    "    heuristic_costs = {}  # Store heuristic costs separately\n",
    "    heuristic_costs[initial_state] = euclidean_distance(graph[initial_state].heuristic, graph[goal_state].heuristic)\n",
    "\n",
    "    explored = {}\n",
    "\n",
    "    while frontier:\n",
    "        current_node = min(frontier, key=frontier.get)  # Find the node with the lowest cost\n",
    "        print(current_node)\n",
    "\n",
    "        del frontier[current_node]\n",
    "\n",
    "        if current_node == goal_state:\n",
    "            return actionSequence(graph, initial_state, goal_state)\n",
    "\n",
    "        explored[current_node] = True\n",
    "\n",
    "        for action in graph[current_node].actions:\n",
    "            child_state, cost = action\n",
    "            current_cost = graph[current_node].totalcost + cost\n",
    "\n",
    "            # Calculate the heuristic cost for the child\n",
    "            heuristic_cost = math.sqrt(\n",
    "                ((graph[goal_state].heuristic[0] - graph[child_state].heuristic[0]) ** 2) +\n",
    "                ((graph[goal_state].heuristic[1] - graph[child_state].heuristic[1]) ** 2)\n",
    "            )\n",
    "\n",
    "            if child_state not in explored or current_cost < graph[child_state].totalcost:\n",
    "                graph[child_state].parent = current_node\n",
    "                graph[child_state].totalcost = current_cost\n",
    "                heuristic_costs[child_state] = heuristic_cost\n",
    "\n",
    "                # Add the child to the frontier\n",
    "                frontier[child_state] = current_cost + heuristic_cost\n",
    "\n",
    "    return None\n"
   ]
  },
  {
   "cell_type": "code",
   "execution_count": 42,
   "metadata": {},
   "outputs": [
    {
     "name": "stdout",
     "output_type": "stream",
     "text": [
      "None\n"
     ]
    }
   ],
   "source": [
    "print(a_star(graph, \"A\", \"Y\"))"
   ]
  },
  {
   "cell_type": "code",
   "execution_count": 43,
   "metadata": {},
   "outputs": [],
   "source": [
    "import math\n",
    "\n",
    "class Node:\n",
    "    def __init__(self, state, parent, actions, totalCost, heuristic):\n",
    "        self.state = state\n",
    "        self.parent = parent\n",
    "        self.actions = actions  # Fixed missing '='\n",
    "        self.totalCost = totalCost\n",
    "        self.heuristic = heuristic\n",
    "\n",
    "def findMin(frontier):\n",
    "    minV = math.inf\n",
    "    node = None  # Fixed empty string to None\n",
    "    for i in frontier:\n",
    "        if minV > frontier[i][1]:\n",
    "            minV = frontier[i][1]\n",
    "            node = i\n",
    "    return node\n",
    "\n",
    "def actionSequence(graph, initialState, goalState):\n",
    "    solution = [goalState]\n",
    "    currentParent = graph[goalState].parent\n",
    "    while currentParent is not None:  # Fixed space between current and Parent\n",
    "        solution.append(currentParent)\n",
    "        currentParent = graph[currentParent].parent\n",
    "    solution.reverse()\n",
    "    return solution\n",
    "\n",
    "# Example usage:\n",
    "# Initialize your graph and nodes, then call actionSequence to find the solution.\n"
   ]
  },
  {
   "cell_type": "code",
   "execution_count": 44,
   "metadata": {},
   "outputs": [
    {
     "name": "stdout",
     "output_type": "stream",
     "text": [
      "['Y']\n"
     ]
    }
   ],
   "source": [
    "print(actionSequence(graph, \"A\", \"Y\"))"
   ]
  }
 ],
 "metadata": {
  "kernelspec": {
   "display_name": "Python 3",
   "language": "python",
   "name": "python3"
  },
  "language_info": {
   "codemirror_mode": {
    "name": "ipython",
    "version": 3
   },
   "file_extension": ".py",
   "mimetype": "text/x-python",
   "name": "python",
   "nbconvert_exporter": "python",
   "pygments_lexer": "ipython3",
   "version": "3.11.4"
  }
 },
 "nbformat": 4,
 "nbformat_minor": 2
}
