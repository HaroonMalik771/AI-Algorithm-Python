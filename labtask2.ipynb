{
 "cells": [
  {
   "cell_type": "code",
   "execution_count": 1,
   "metadata": {},
   "outputs": [
    {
     "name": "stdout",
     "output_type": "stream",
     "text": [
      "['1', '2', '3', '4', '5']\n"
     ]
    }
   ],
   "source": [
    "# activity 1 print list\n",
    "list1 = []\n",
    "\n",
    "for i in range(5):\n",
    "    value = input(\"Enter a value: \")\n",
    "    list1.append(value)\n",
    "\n",
    "print(list1)"
   ]
  },
  {
   "cell_type": "code",
   "execution_count": 2,
   "metadata": {},
   "outputs": [
    {
     "name": "stdout",
     "output_type": "stream",
     "text": [
      "['1', '2', '3', '4', '5']\n",
      "15\n"
     ]
    }
   ],
   "source": [
    "# activity 2 Print list of integers and find their sum\n",
    "list1 = []\n",
    "sum = 0\n",
    "\n",
    "for i in range(5):\n",
    "    value = input(\"Enter a number: \")\n",
    "    list1.append(value)\n",
    "    sum += int(value)\n",
    "\n",
    "\n",
    "print(list1)\n",
    "print(sum)"
   ]
  },
  {
   "cell_type": "code",
   "execution_count": 3,
   "metadata": {},
   "outputs": [
    {
     "name": "stdout",
     "output_type": "stream",
     "text": [
      "Ascending order: \n",
      "[1, 2, 3, 4, 5]\n"
     ]
    }
   ],
   "source": [
    "# Activity 3 ascending order list \n",
    "list1 = []\n",
    "sum = 0\n",
    "\n",
    "for i in range(5):\n",
    "    value = int(input(\"Enter a number: \"))\n",
    "    list1.append(value)\n",
    "\n",
    "list1.sort()\n",
    "print(\"Ascending order: \")\n",
    "print(list1)"
   ]
  },
  {
   "cell_type": "code",
   "execution_count": 4,
   "metadata": {},
   "outputs": [
    {
     "name": "stdout",
     "output_type": "stream",
     "text": [
      "[1, 2, 3, 4, 5, 5, 6, 1, 2, 3]\n",
      "[4, 1, 2, 3, 4]\n",
      "[1, 1, 1, 2, 2, 2, 3, 3, 3, 4, 4, 4, 5, 5, 6]\n"
     ]
    }
   ],
   "source": [
    "# Activity 4 - join two lists\n",
    "# list1 = []\n",
    "list2 = []\n",
    "\n",
    "for i in range(5):\n",
    "    value = int(input(\"Enter a value: \"))\n",
    "    list1.append(value)\n",
    "\n",
    "print(list1)\n",
    "\n",
    "for i in range(5):\n",
    "    value = int(input(\"Enter a value: \"))\n",
    "    list2.append(value)\n",
    "\n",
    "print(list2)\n",
    "\n",
    "list3 = list1 + list2\n",
    "list3.sort()\n",
    "print(list3)"
   ]
  },
  {
   "cell_type": "code",
   "execution_count": 5,
   "metadata": {},
   "outputs": [
    {
     "name": "stdout",
     "output_type": "stream",
     "text": [
      "[5, 6, 7, 6, 5]\n",
      "Not found\n"
     ]
    }
   ],
   "source": [
    "# Activity 5 - search for a value in a list\n",
    "list1 = []\n",
    "for i in range(5):\n",
    "    value = int(input(\"Enter a value: \"))\n",
    "    list1.append(value)\n",
    "\n",
    "print(list1)\n",
    "\n",
    "search = int(input(\"Enter a value to search: \"))\n",
    "if search in list1:\n",
    "    print(\"Found\")\n",
    "else:\n",
    "    print(\"Not found\")"
   ]
  },
  {
   "cell_type": "code",
   "execution_count": 6,
   "metadata": {},
   "outputs": [
    {
     "name": "stdout",
     "output_type": "stream",
     "text": [
      "True\n",
      "False\n"
     ]
    }
   ],
   "source": [
    "\n",
    "\n",
    "# Activity 7 - find palindrome\n",
    "def findPalindrome(word):\n",
    "    lower = word.lower()\n",
    "    end = len(lower)\n",
    "    front = 0\n",
    "    for i in range(end) :\n",
    "        if lower[front] != lower[end - 1]:\n",
    "            return False\n",
    "        front += 1\n",
    "        end -= 1\n",
    "    return True\n",
    "\n",
    "print(findPalindrome(\"racecar\"))\n",
    "print(findPalindrome(\"hello\"))"
   ]
  },
  {
   "cell_type": "code",
   "execution_count": 7,
   "metadata": {},
   "outputs": [
    {
     "name": "stdout",
     "output_type": "stream",
     "text": [
      "Hello Marry\n",
      "Hello Mary\n",
      "Hello Bob\n"
     ]
    }
   ],
   "source": [
    "# Activity 6 - write function to print name\n",
    "\n",
    "def sayHello(name):\n",
    "    print(\"Hello \" + name)\n",
    "\n",
    "sayHello(\"Marry\")\n",
    "sayHello(\"Mary\")\n",
    "sayHello(\"Bob\")"
   ]
  },
  {
   "cell_type": "code",
   "execution_count": 8,
   "metadata": {},
   "outputs": [
    {
     "name": "stdout",
     "output_type": "stream",
     "text": [
      "[[1, 2, 3], [4, 5, 6], [7, 8, 9]]\n"
     ]
    }
   ],
   "source": [
    "# Activity 8 - find 3x3 matrix product\n",
    "\n",
    "matrix1 = [[1,0,0],[0,1,0],[0,0,1]]\n",
    "matrix2 = [[1,2,3],[4,5,6],[7,8,9]]\n",
    "\n",
    "def matrixProduct(matrix1, matrix2):\n",
    "    result = [[0,0,0],[0,0,0],[0,0,0]]\n",
    "    for i in range(3):\n",
    "        for j in range(3):\n",
    "            for k in range(3):\n",
    "                result[i][j] += matrix1[i][k] * matrix2[k][j]\n",
    "    return result\n",
    "\n",
    "print(matrixProduct(matrix1, matrix2))"
   ]
  },
  {
   "cell_type": "code",
   "execution_count": null,
   "metadata": {},
   "outputs": [],
   "source": []
  }
 ],
 "metadata": {
  "kernelspec": {
   "display_name": "Python 3",
   "language": "python",
   "name": "python3"
  },
  "language_info": {
   "codemirror_mode": {
    "name": "ipython",
    "version": 3
   },
   "file_extension": ".py",
   "mimetype": "text/x-python",
   "name": "python",
   "nbconvert_exporter": "python",
   "pygments_lexer": "ipython3",
   "version": "3.11.4"
  },
  "orig_nbformat": 4
 },
 "nbformat": 4,
 "nbformat_minor": 2
}
