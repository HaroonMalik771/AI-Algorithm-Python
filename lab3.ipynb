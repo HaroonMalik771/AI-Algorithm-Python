{
 "cells": [
  {
   "cell_type": "markdown",
   "metadata": {},
   "source": [
    "Lecture # 3 Digital Image Processing"
   ]
  },
  {
   "cell_type": "code",
   "execution_count": 1,
   "metadata": {},
   "outputs": [],
   "source": [
    "import numpy as np\n",
    "import matplotlib.pyplot as plt\n",
    "import math"
   ]
  },
  {
   "cell_type": "markdown",
   "metadata": {},
   "source": [
    "Create a Binary Image"
   ]
  },
  {
   "cell_type": "code",
   "execution_count": 2,
   "metadata": {},
   "outputs": [
    {
     "data": {
      "text/plain": [
       "<matplotlib.image.AxesImage at 0x1f573bf1c90>"
      ]
     },
     "execution_count": 2,
     "metadata": {},
     "output_type": "execute_result"
    },
    {
     "data": {
      "image/png": "[encoded data removed]",
      "text/plain": [
       "<Figure size 640x480 with 1 Axes>"
      ]
     },
     "metadata": {},
     "output_type": "display_data"
    }
   ],
   "source": [
    "image = np.ones((300, 300))\n",
    "\n",
    "p1 = [100,200]\n",
    "p2 = [200,200]\n",
    "\n",
    "image[p1[0],p1[1]] = 0\n",
    "image[p2[0],p2[1]] = 0\n",
    "\n",
    "plt.title(\"Image with two points\")\n",
    "plt.imshow(image, cmap='gray')"
   ]
  },
  {
   "cell_type": "code",
   "execution_count": null,
   "metadata": {},
   "outputs": [],
   "source": [
    "class Graph:\n",
    "    def __init__(self):\n",
    "        self.graph = {}\n",
    "\n",
    "    def add_edge(self, node, neighbors):\n",
    "        self.graph[node] = neighbors\n",
    "\n",
    "    def dfs(self, start_node):\n",
    "        visited = set()\n",
    "        stack = [start_node]\n",
    "\n",
    "        while stack:\n",
    "            node = stack.pop()\n",
    "            if node not in visited:\n",
    "                print(node, end=\" \")  # Process the node\n",
    "                visited.add(node)\n",
    "                neighbors = self.graph.get(node, [])\n",
    "                stack.extend(neighbors)\n",
    "\n",
    "# Example usage:\n",
    "if __name__ == \"__main__\":\n",
    "    graph = Graph()\n",
    "    graph.add_edge('A', ['B', 'C'])\n",
    "    graph.add_edge('B', ['D', 'E'])\n",
    "    graph.add_edge('C', ['F'])\n",
    "    graph.add_edge('D', [])\n",
    "    graph.add_edge('E', ['F'])\n",
    "    graph.add_edge('F', [])\n",
    "\n",
    "    print(\"Depth-First Search:\")\n",
    "    graph.dfs('A')"
   ]
  }
 ],
 "metadata": {
  "kernelspec": {
   "display_name": "Python 3",
   "language": "python",
   "name": "python3"
  },
  "language_info": {
   "codemirror_mode": {
    "name": "ipython",
    "version": 3
   },
   "file_extension": ".py",
   "mimetype": "text/x-python",
   "name": "python",
   "nbconvert_exporter": "python",
   "pygments_lexer": "ipython3",
   "version": "3.11.4"
  },
  "orig_nbformat": 4
 },
 "nbformat": 4,
 "nbformat_minor": 2
}
