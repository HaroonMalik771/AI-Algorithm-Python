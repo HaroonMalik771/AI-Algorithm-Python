{
 "cells": [
  {
   "cell_type": "code",
   "execution_count": 7,
   "metadata": {},
   "outputs": [
    {
     "name": "stdout",
     "output_type": "stream",
     "text": [
      "The optimal value is : 3\n"
     ]
    }
   ],
   "source": [
    "# Python3 program to demonstrate \n",
    "# working of Alpha-Beta Pruning \n",
    "\n",
    "# Initial values of Alpha and Beta \n",
    "MAX, MIN = 1000, -1000\n",
    "\n",
    "# Returns optimal value for current player \n",
    "#(Initially called for root and maximizer) \n",
    "def minimax(depth, nodeIndex, maximizingPlayer, \n",
    "\t\t\tvalues, alpha, beta): \n",
    "\n",
    "\t# Terminating condition. i.e \n",
    "\t# leaf node is reached \n",
    "\tif depth == 3: \n",
    "\t\treturn values[nodeIndex] \n",
    "\n",
    "\tif maximizingPlayer: \n",
    "\t\n",
    "\t\tbest = MIN\n",
    "\n",
    "\t\t# Recur for left and right children \n",
    "\t\tfor i in range(0, 2): \n",
    "\t\t\t\n",
    "\t\t\tval = minimax(depth + 1, nodeIndex * 2 + i, \n",
    "\t\t\t\t\t\tFalse, values, alpha, beta) \n",
    "\t\t\tbest = max(best, val) \n",
    "\t\t\talpha = max(alpha, best) \n",
    "\n",
    "\t\t\t# Alpha Beta Pruning \n",
    "\t\t\tif beta <= alpha: \n",
    "\t\t\t\tbreak\n",
    "\t\t\n",
    "\t\treturn best \n",
    "\t\n",
    "\telse:\n",
    "\t\tbest = MAX\n",
    "\n",
    "\t\t# Recur for left and \n",
    "\t\t# right children \n",
    "\t\tfor i in range(0, 2): \n",
    "\t\t\n",
    "\t\t\tval = minimax(depth + 1, nodeIndex * 2 + i, \n",
    "\t\t\t\t\t\t\tTrue, values, alpha, beta) \n",
    "\t\t\tbest = min(best, val) \n",
    "\t\t\tbeta = min(beta, best) \n",
    "\n",
    "\t\t\t# Alpha Beta Pruning \n",
    "\t\t\tif beta <= alpha: \n",
    "\t\t\t\tbreak\n",
    "\t\t\n",
    "\t\treturn best \n",
    "\t\n",
    "# Driver Code \n",
    "if __name__ == \"__main__\": \n",
    "\n",
    "\tvalues = [2,3,5,9,0,1,7,5] \n",
    "\tprint(\"The optimal value is :\", minimax(0, 0, True, values, MIN, MAX)) \n",
    "\t\n",
    "# This code is contributed by Rituraj Jain\n"
   ]
  }
 ],
 "metadata": {
  "kernelspec": {
   "display_name": "Python 3",
   "language": "python",
   "name": "python3"
  },
  "language_info": {
   "codemirror_mode": {
    "name": "ipython",
    "version": 3
   },
   "file_extension": ".py",
   "mimetype": "text/x-python",
   "name": "python",
   "nbconvert_exporter": "python",
   "pygments_lexer": "ipython3",
   "version": "3.11.4"
  }
 },
 "nbformat": 4,
 "nbformat_minor": 2
}
