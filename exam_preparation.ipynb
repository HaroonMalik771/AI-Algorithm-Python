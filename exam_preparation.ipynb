{
 "cells": [
  {
   "cell_type": "code",
   "execution_count": 8,
   "metadata": {},
   "outputs": [],
   "source": [
    "class Node:\n",
    "    def __init__(self, state, parent, actions, heuristic, totalCost):\n",
    "        self.state = state\n",
    "        self.parent = parent\n",
    "        self.actions = actions\n",
    "        self.heuristic = heuristic\n",
    "        self.totalCost = totalCost"
   ]
  },
  {
   "cell_type": "code",
   "execution_count": 9,
   "metadata": {},
   "outputs": [],
   "source": [
    "graph = {\n",
    "    'A': Node('A', None, [('F', 1)], (0, 0), 0),\n",
    "    'B': Node('B', None, [('G', 1), ('C', 1)], (2, 0), 0),\n",
    "    'C': Node('C', None, [('B', 1), ('D', 1)], (3, 0), 0),\n",
    "    'D': Node('D', None, [('C', 1), ('E', 1)], (4, 0), 0),\n",
    "    'E': Node('E', None, [('D', 1)], (5, 0), 0),\n",
    "    'F': Node('F', None, [('A', 1), ('H', 1)], (0, 1), 0),\n",
    "    'G': Node('G', None, [('B', 1), ('J', 1)], (2, 1), 0),\n",
    "    'H': Node('H', None, [('F', 1), ('I', 1), ('M', 1)], (0, 2), 0),\n",
    "    'I': Node('I', None, [('H', 1), ('J', 1), ('N', 1)], (1, 2), 0),\n",
    "    'J': Node('J', None, [('G', 1), ('I', 1)], (2, 2), 0),\n",
    "    'K': Node('K', None, [('L', 1), ('P', 1)], (4, 2), 0),\n",
    "    'L': Node('L', None, [('K', 1), ('Q', 1)], (5, 2), 0),\n",
    "    'M': Node('M', None, [('H', 1), ('N', 1), ('R', 1)], (0, 3), 0),\n",
    "    'N': Node('N', None, [('I', 1), ('M', 1), ('S', 1)], (1, 3), 0),\n",
    "    'O': Node('O', None, [('P', 1), ('U', 1)], (3, 3), 0),\n",
    "    'P': Node('P', None, [('O', 1), ('Q', 1)], (4, 3), 0),\n",
    "    'Q': Node('Q', None, [('L', 1), ('P', 1), ('V', 1)], (5, 3), 0),\n",
    "    'R': Node('R', None, [('M', 1), ('S', 1)], (0, 4), 0),\n",
    "    'S': Node('S', None, [('N', 1), ('R', 1), ('T', 1)], (1, 4), 0),\n",
    "    'T': Node('T', None, [('S', 1), ('U', 1), ('W', 1)], (2, 4), 0),\n",
    "    'U': Node('U', None, [('O', 1), ('T', 1)], (3, 4), 0),\n",
    "    'V': Node('V', None, [('Q', 1), ('Y', 1)], (5, 4), 0),\n",
    "    'W': Node('W', None, [('T', 1)], (2, 5), 0),\n",
    "    'X': Node('X', None, [('Y', 1)], (4, 5), 0),\n",
    "    'Y': Node('Y', None, [('V', 1), ('X', 1)], (5, 5), 0)\n",
    "}"
   ]
  },
  {
   "cell_type": "code",
   "execution_count": 10,
   "metadata": {},
   "outputs": [],
   "source": [
    "def actionSequence(graph,initialState,goalState):\n",
    "    solution = [goalState]\n",
    "    currentParent = graph[goalState].parent\n",
    "    cost = graph[goalState].totalCost\n",
    "    while currentParent != None:\n",
    "        solution.append(currentParent)\n",
    "        currentParent = graph[currentParent].parent\n",
    "    solution.reverse()\n",
    "    return solution, cost"
   ]
  },
  {
   "cell_type": "code",
   "execution_count": 11,
   "metadata": {},
   "outputs": [],
   "source": [
    "import math\n",
    "\n",
    "def findMin(frontier):\n",
    "    minV = math.inf\n",
    "    node = ' '\n",
    "    for i in frontier:\n",
    "        if minV > frontier[i][1]:\n",
    "            minV = frontier[i][1]\n",
    "            node = i\n",
    "        return node    \n"
   ]
  },
  {
   "cell_type": "code",
   "execution_count": 12,
   "metadata": {},
   "outputs": [],
   "source": [
    "def euclidean_distance(p1, p2):\n",
    "    return math.sqrt(((p2[0] - p1[0]) ** 2 + (p2[1] - p1[1]) ** 2))"
   ]
  },
  {
   "cell_type": "code",
   "execution_count": 13,
   "metadata": {},
   "outputs": [],
   "source": [
    "\n",
    "def a_star(graph, initialState, goalState):\n",
    "    frontier = dict()\n",
    "    explored = dict()\n",
    "\n",
    "    heuristicCost = math.sqrt(((graph[goalState].heuristic[0] - graph[initialState].heuristic[0]) ** 2) + ((graph[goalState].heuristic[1] - graph[initialState].heuristic[1]) ** 2))\n",
    "\n",
    "    frontier[initialState] = (None, heuristicCost)\n",
    "\n",
    "    while len(frontier) != 0:\n",
    "        currentNode = findMin(frontier)\n",
    "        del frontier[currentNode]\n",
    "        \n",
    "        if graph[currentNode].state == goalState:\n",
    "            return actionSequence(graph, initialState, goalState)\n",
    "        \n",
    "        heuristicCost = math.sqrt(((graph[goalState].heuristic[0] - graph[currentNode].heuristic[0]) ** 2) + ((graph[goalState].heuristic[1] - graph[currentNode].heuristic[1]) ** 2))\n",
    "        \n",
    "        currentCost = graph[currentNode].totalCost\n",
    "        explored[currentNode] = (graph[currentNode].parent, heuristicCost + currentCost)\n",
    "\n",
    "        for child in graph[currentNode].actions:\n",
    "            currentCost = child[1] + graph[currentNode].totalCost\n",
    "            heuristicCost = math.sqrt(((graph[goalState].heuristic[0] - graph[child[0]].heuristic[0]) ** 2) + ((graph[goalState].heuristic[1] - graph[child[0]].heuristic[1]) ** 2))\n",
    "\n",
    "            if child[0] in explored:\n",
    "                if graph[child[0]].parent == currentNode or child[0] == initialState or explored[child[0]][1] <= currentCost + heuristicCost:\n",
    "                    continue\n",
    "                    \n",
    "            if child[0] not in frontier:\n",
    "                graph[child[0]].parent = currentNode\n",
    "                graph[child[0]].totalCost = currentCost + heuristicCost\n",
    "                frontier[child[0]] = (graph[child[0]].parent, currentCost + heuristicCost)\n",
    "            else:\n",
    "                if frontier[child[0]][1] < currentCost + heuristicCost:\n",
    "                    graph[child[0]].parent = frontier[child[0]][0]\n",
    "                    graph[child[0]].totalCost = frontier[child[0]][1] - heuristicCost\n",
    "                else:\n",
    "                    frontier[child[0]] = (currentNode, currentCost + heuristicCost)\n",
    "                    graph[child[0]].parent = frontier[child[0]][0]\n",
    "                    graph[child[0]].totalCost = currentCost\n",
    "\n",
    "    return None\n"
   ]
  },
  {
   "cell_type": "code",
   "execution_count": 14,
   "metadata": {},
   "outputs": [
    {
     "name": "stdout",
     "output_type": "stream",
     "text": [
      "(['A', 'F', 'H', 'I', 'N', 'S', 'T', 'U', 'O', 'P', 'Q', 'V', 'Y'], 42.69691687219229)\n"
     ]
    }
   ],
   "source": [
    "print(a_star(graph, \"A\", \"Y\"))"
   ]
  },
  {
   "cell_type": "code",
   "execution_count": 18,
   "metadata": {},
   "outputs": [
    {
     "name": "stdout",
     "output_type": "stream",
     "text": [
      "Solution: [3, 0, 2, 1]\n"
     ]
    }
   ],
   "source": [
    "import random\n",
    "\n",
    "def initial_state(n):\n",
    "    return [random.randint(0, n-1) for _ in range(n)]\n",
    "\n",
    "def heuristic(board):\n",
    "    conflicts = 0\n",
    "    for i in range(len(board)):\n",
    "        for j in range(i + 1, len(board)):\n",
    "            if board[i] == board[j] or abs(board[i] - board[j]) == j - i:\n",
    "                conflicts += 1\n",
    "    return conflicts\n",
    "\n",
    "def hill_climbing(n):\n",
    "    current_board = initial_state(n)\n",
    "    current_cost = heuristic(current_board)\n",
    "\n",
    "    while current_cost > 0:\n",
    "        neighbors = []\n",
    "\n",
    "        for i in range(n):\n",
    "            for j in range(n):\n",
    "                if current_board[i] != j:\n",
    "                    neighbor_board = list(current_board)\n",
    "                    neighbor_board[i] = j\n",
    "                    neighbor_cost = heuristic(neighbor_board)\n",
    "                    neighbors.append((neighbor_board, neighbor_cost))\n",
    "\n",
    "        neighbors.sort(key=lambda x: x[1])\n",
    "        if neighbors[0][1] >= current_cost:\n",
    "            break\n",
    "\n",
    "        current_board, current_cost = neighbors[0]\n",
    "\n",
    "    return current_board\n",
    "\n",
    "# Call the hill_climbing function with N=4 to solve the 4-Queens problem\n",
    "solution = hill_climbing(4)\n",
    "print(\"Solution:\",solution)"
   ]
  }
 ],
 "metadata": {
  "kernelspec": {
   "display_name": "Python 3",
   "language": "python",
   "name": "python3"
  },
  "language_info": {
   "codemirror_mode": {
    "name": "ipython",
    "version": 3
   },
   "file_extension": ".py",
   "mimetype": "text/x-python",
   "name": "python",
   "nbconvert_exporter": "python",
   "pygments_lexer": "ipython3",
   "version": "3.11.4"
  }
 },
 "nbformat": 4,
 "nbformat_minor": 2
}
