{
 "cells": [
  {
   "cell_type": "code",
   "execution_count": 1,
   "metadata": {},
   "outputs": [
    {
     "name": "stdout",
     "output_type": "stream",
     "text": [
      "Local Maximum Path: ['F', 'H', 'I', 'J']\n"
     ]
    }
   ],
   "source": [
    "import math\n",
    "\n",
    "class Node:\n",
    "    def __init__(self, state, parent, actions, heuristic, totalCost):\n",
    "        self.state = state\n",
    "        self.parent = parent\n",
    "        self.actions = actions\n",
    "        self.totalCost = totalCost\n",
    "        self.heuristic = heuristic\n",
    "\n",
    "graph = {\n",
    "    'A': Node('A', None, [('F', 1)], (0, 0), 0),\n",
    "    'B': Node('B', None, [('G', 1), ('C', 1)], (2, 0), 0),\n",
    "    'C': Node('C', None, [('B', 1), ('D', 1)], (3, 0), 0),\n",
    "    'D': Node('D', None, [('C', 1), ('E', 1)], (4, 0), 0),\n",
    "    'E': Node('E', None, [('D', 1)], (5, 0), 0),\n",
    "    'F': Node('F', None, [('A', 1), ('H', 1)], (0, 1), 0),\n",
    "    'G': Node('G', None, [('B', 1), ('J', 1)], (2, 1), 0),\n",
    "    'H': Node('H', None, [('F', 1), ('I', 1), ('M', 1)], (0, 2), 0),\n",
    "    'I': Node('I', None, [('H', 1), ('J', 1), ('N', 1)], (1, 2), 0),\n",
    "    'J': Node('J', None, [('G', 1), ('I', 1)], (2, 2), 0),\n",
    "    'K': Node('K', None, [('L', 1), ('P', 1)], (4, 2), 0),\n",
    "    'L': Node('L', None, [('K', 1), ('Q', 1)], (5, 2), 0),\n",
    "    'M': Node('M', None, [('H', 1), ('N', 1), ('R', 1)], (0, 3), 0),\n",
    "    'N': Node('N', None, [('I', 1), ('M', 1), ('S', 1)], (1, 3), 0),\n",
    "    'O': Node('O', None, [('P', 1), ('U', 1)], (3, 3), 0),\n",
    "    'P': Node('P', None, [('O', 1), ('Q', 1)], (4, 3), 0),\n",
    "    'Q': Node('Q', None, [('L', 1), ('P', 1), ('V', 1)], (5, 3), 0),\n",
    "    'R': Node('R', None, [('M', 1), ('S', 1)], (0, 4), 0),\n",
    "    'S': Node('S', None, [('N', 1), ('R', 1), ('T', 1)], (1, 4), 0),\n",
    "    'T': Node('T', None, [('S', 1), ('U', 1), ('W', 1)], (2, 4), 0),\n",
    "    'U': Node('U', None, [('O', 1), ('T', 1)], (3, 4), 0),\n",
    "    'V': Node('V', None, [('Q', 1), ('Y', 1)], (5, 4), 0),\n",
    "    'W': Node('W', None, [('T', 1)], (2, 5), 0),\n",
    "    'X': Node('X', None, [('Y', 1)], (4, 5), 0),\n",
    "    'Y': Node('Y', None, [('V', 1), ('X', 1)], (5, 5), 0)\n",
    "}\n",
    "\n",
    "def hill_climbing(graph, initial_state, goal_state):\n",
    "    parent_node = initial_state\n",
    "    parent_cost = math.sqrt((graph[goal_state].heuristic[0] - graph[initial_state].heuristic[0]) ** 2 +\n",
    "                           (graph[goal_state].heuristic[1] - graph[initial_state].heuristic[1]) ** 2)\n",
    "    explored = []\n",
    "    solution = []\n",
    "    min_child_cost = parent_cost - 1\n",
    "\n",
    "    while parent_node != goal_state:\n",
    "        best_node = parent_node\n",
    "        min_child_cost = parent_cost\n",
    "        explored.append(parent_node)\n",
    "\n",
    "        for child, _ in graph[parent_node].actions:\n",
    "            if child not in explored:\n",
    "                child_cost = math.sqrt((graph[goal_state].heuristic[0] - graph[child].heuristic[0]) ** 2 +\n",
    "                                     (graph[goal_state].heuristic[1] - graph[child].heuristic[1]) ** 2)\n",
    "                if child_cost < min_child_cost:\n",
    "                    best_node = child\n",
    "                    min_child_cost = child_cost\n",
    "\n",
    "        if best_node == parent_node:\n",
    "            break\n",
    "        else:\n",
    "            parent_node = best_node\n",
    "            parent_cost = min_child_cost\n",
    "            solution.append(parent_node)\n",
    "\n",
    "    return solution\n",
    "\n",
    "initialState = 'A'\n",
    "goalState = 'Y'\n",
    "path = hill_climbing(graph, initialState, goalState)\n",
    "print(\"Local Maximum Path:\", path)"
   ]
  }
 ],
 "metadata": {
  "kernelspec": {
   "display_name": "Python 3",
   "language": "python",
   "name": "python3"
  },
  "language_info": {
   "codemirror_mode": {
    "name": "ipython",
    "version": 3
   },
   "file_extension": ".py",
   "mimetype": "text/x-python",
   "name": "python",
   "nbconvert_exporter": "python",
   "pygments_lexer": "ipython3",
   "version": "3.11.4"
  }
 },
 "nbformat": 4,
 "nbformat_minor": 2
}
