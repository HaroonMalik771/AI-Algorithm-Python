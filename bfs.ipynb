{
 "cells": [
  {
   "cell_type": "code",
   "execution_count": 22,
   "metadata": {},
   "outputs": [],
   "source": [
    "class Node:\n",
    "    def __init__(self, state, parent ,actions, totalCost):\n",
    "        self.state = state\n",
    "        self.parent = parent\n",
    "        self.actions = actions\n",
    "        self.totalCost = totalCost\n",
    "        "
   ]
  },
  {
   "cell_type": "code",
   "execution_count": 23,
   "metadata": {},
   "outputs": [],
   "source": [
    "romania = {\n",
    "    \"Arad\": Node(\"Arad\", None, [\"Zerind\", \"Sibiu\", \"Timisoara\"], None),\n",
    "    \"Zerind\": Node(\"Zerind\", None, [\"Arad\", \"Oradea\"], None),\n",
    "    \"Oradea\": Node(\"Oradea\", None, [\"Zerind\", \"Sibiu\"], None),\n",
    "    \"Sibiu\": Node(\"Sibiu\", None, [\"Arad\", \"Oradea\", \"Fagaras\", \"Rimnicu Vilcea\"], None),\n",
    "    \"Timisoara\": Node(\"Timisoara\", None, [\"Arad\", \"Lugoj\"], None),\n",
    "    \"Lugoj\": Node(\"Lugoj\", None, [\"Timisoara\", \"Mehadia\"], None),\n",
    "    \"Mehadia\": Node(\"Mehadia\", None, [\"Lugoj\", \"Drobeta\"], None),\n",
    "    \"Drobeta\": Node(\"Drobeta\", None, [\"Mehadia\", \"Craiova\"], None),\n",
    "    \"Craiova\": Node(\"Craiova\", None, [\"Drobeta\", \"Rimnicu Vilcea\", \"Pitesti\"], None),\n",
    "    \"Rimnicu Vilcea\": Node(\"Rimnicu Vilcea\", None, [\"Sibiu\", \"Craiova\", \"Pitesti\"], None),\n",
    "    \"Fagaras\": Node(\"Fagaras\", None, [\"Sibiu\", \"Bucharest\"], None),\n",
    "    \"Pitesti\": Node(\"Pitesti\", None, [\"Rimnicu Vilcea\", \"Craiova\", \"Bucharest\"], None),\n",
    "    \"Bucharest\": Node(\"Bucharest\", None, [\"Fagaras\", \"Pitesti\", \"Giurgiu\", \"Urziceni\"], None),\n",
    "    \"Giurgiu\": Node(\"Giurgiu\", None, [\"Bucharest\"], None),\n",
    "    \"Urziceni\": Node(\"Urziceni\", None, [\"Bucharest\", \"Hirsova\", \"Vaslui\"], None),\n",
    "    \"Hirsova\": Node(\"Hirsova\", None, [\"Urziceni\", \"Eforie\"], None),\n",
    "    \"Eforie\": Node(\"Eforie\", None, [\"Hirsova\"], None),\n",
    "    \"Vaslui\": Node(\"Vaslui\", None, [\"Urziceni\", \"Iasi\"], None),\n",
    "    \"Iasi\": Node(\"Iasi\", None, [\"Vaslui\", \"Neamt\"], None),\n",
    "    \"Neamt\": Node(\"Neamt\", None, [\"Iasi\"], None),\n",
    "}"
   ]
  },
  {
   "cell_type": "code",
   "execution_count": 26,
   "metadata": {},
   "outputs": [],
   "source": [
    "\n",
    "def BFS(graph, start, goal):\n",
    "    queue = []\n",
    "    visited = []\n",
    "    queue.append(start)\n",
    "    visited.append(start)\n",
    "    path = []\n",
    "\n",
    "    while queue:\n",
    "        current = queue.pop(0)\n",
    "        path.append(current)\n",
    "\n",
    "        if current == goal:\n",
    "            return actionSequence(graph, start, goal)\n",
    "        for neighbour in graph[current].actions:\n",
    "            if neighbour not in visited:\n",
    "                queue.append(neighbour)\n",
    "                visited.append(neighbour)\n",
    "                graph[neighbour].parent = current\n",
    "\n",
    "def actionSequence(graph, start, goal):\n",
    "    solution = [goal]\n",
    "    current = goal\n",
    "    while current != start:\n",
    "        currentParent = graph[current].parent\n",
    "        solution.append(currentParent)\n",
    "        current = currentParent\n",
    "    solution.reverse()\n",
    "    return solution    \n"
   ]
  },
  {
   "cell_type": "code",
   "execution_count": 19,
   "metadata": {},
   "outputs": [],
   "source": [
    "def DFS(graph, start, goal):\n",
    "    stack = []\n",
    "    visited = []\n",
    "    stack.append(start)\n",
    "    visited.append(start)\n",
    "    path = []\n",
    "\n",
    "    while stack:\n",
    "        current = stack.pop()\n",
    "        path.append(current)\n",
    "\n",
    "        if current == goal:\n",
    "            return path\n",
    "\n",
    "        for neighbor in graph[current].actions:\n",
    "            if neighbor not in visited:\n",
    "                stack.append(neighbor)\n",
    "                visited.append(neighbor)\n",
    "                graph[neighbor].parent = current\n",
    "\n",
    "    return path"
   ]
  },
  {
   "cell_type": "code",
   "execution_count": 20,
   "metadata": {},
   "outputs": [
    {
     "name": "stdout",
     "output_type": "stream",
     "text": [
      "['Arad', 'Timisoara', 'Lugoj', 'Mehadia', 'Drobeta', 'Craiova', 'Pitesti', 'Bucharest']\n"
     ]
    }
   ],
   "source": [
    "print(DFS(romania, \"Arad\", \"Bucharest\"))"
   ]
  },
  {
   "cell_type": "code",
   "execution_count": 27,
   "metadata": {},
   "outputs": [
    {
     "name": "stdout",
     "output_type": "stream",
     "text": [
      "['Arad', 'Sibiu', 'Fagaras', 'Bucharest']\n"
     ]
    }
   ],
   "source": [
    "print(BFS(romania, \"Arad\", \"Bucharest\"))"
   ]
  }
 ],
 "metadata": {
  "kernelspec": {
   "display_name": "Python 3",
   "language": "python",
   "name": "python3"
  },
  "language_info": {
   "codemirror_mode": {
    "name": "ipython",
    "version": 3
   },
   "file_extension": ".py",
   "mimetype": "text/x-python",
   "name": "python",
   "nbconvert_exporter": "python",
   "pygments_lexer": "ipython3",
   "version": "3.11.4"
  }
 },
 "nbformat": 4,
 "nbformat_minor": 2
}
